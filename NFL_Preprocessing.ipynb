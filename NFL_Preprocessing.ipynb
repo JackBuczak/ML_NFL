{
 "cells": [
  {
   "cell_type": "code",
   "execution_count": 33,
   "id": "980dc4d2",
   "metadata": {},
   "outputs": [],
   "source": [
    "import pandas as pd\n",
    "from io import StringIO\n",
    "\n",
    "col_names = ['date', 'season', 'neutral', 'playoff', 'team1', 'team2', 'elo1_pre', 'elo2_pre', 'elo_prob1', 'elo_prob2', 'elo1_post',\n",
    "             'elo2_post', 'qbelo1_pre', 'qbelo2_pre', 'qb1', 'qb2', 'qb1_value_pre', 'qb2_value_pre', 'qb1_adj', 'qb2_adj', \n",
    "             'qbelo_prob1', 'qbelo_prob2', 'qb1_game_value', 'qb2_game_value', 'qb1_value_post', 'qb2_value_post', 'qbelo1_post',\n",
    "             'qbelo2_post', 'score1', 'score2', 'quality', 'importance', 'total_rating']\n",
    "\n",
    "# load dataset\n",
    "data = pd.read_csv(\"nfl_elo.csv\", header=None, names=col_names)\n",
    "data = data.drop(0)"
   ]
  },
  {
   "cell_type": "code",
   "execution_count": 31,
   "id": "a75a6ef1",
   "metadata": {},
   "outputs": [],
   "source": [
    "# Loop through rows and replace NaN values in 'playoff' with 'r', signifying \"Regular Season\"\n",
    "for index, row in data.iterrows():\n",
    "    if pd.isna(row['playoff']):\n",
    "        data.at[index, 'playoff'] = 'r'        \n",
    "\n",
    "# Dropping last 3 columns        \n",
    "data = data.drop(['quality', 'importance', 'total_rating'], axis=1)"
   ]
  },
  {
   "cell_type": "code",
   "execution_count": null,
   "id": "2c52121c",
   "metadata": {},
   "outputs": [],
   "source": [
    "# Function to add column for win/loss result. 0 means team1 lost, 1 means team1 won. -1 indicates a tie.\n",
    "def compare_scores(score1, score2):\n",
    "    if score1 < score2:\n",
    "        return 0\n",
    "    elif score1 > score2:\n",
    "        return 1\n",
    "    else:\n",
    "        return -1  # Return a special value indicating that the scores are equal\n",
    "\n",
    "data['outcome'] = data.apply(lambda row: compare_scores(float(row['score1']), float(row['score2'])), axis=1)\n",
    "\n",
    "# Remove rows where the scores are equal\n",
    "data = data[data['outcome'] != -1]"
   ]
  }
 ],
 "metadata": {
  "kernelspec": {
   "display_name": "Python 3 (ipykernel)",
   "language": "python",
   "name": "python3"
  },
  "language_info": {
   "codemirror_mode": {
    "name": "ipython",
    "version": 3
   },
   "file_extension": ".py",
   "mimetype": "text/x-python",
   "name": "python",
   "nbconvert_exporter": "python",
   "pygments_lexer": "ipython3",
   "version": "3.11.4"
  }
 },
 "nbformat": 4,
 "nbformat_minor": 5
}
