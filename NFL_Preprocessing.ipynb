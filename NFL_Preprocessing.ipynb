{
 "cells": [
  {
   "cell_type": "code",
   "execution_count": 16,
   "id": "980dc4d2",
   "metadata": {},
   "outputs": [],
   "source": [
    "import pandas as pd\n",
    "from io import StringIO\n",
    "\n",
    "col_names = ['date', 'season', 'neutral', 'playoff', 'team1', 'team2', 'elo1_pre', 'elo2_pre', 'elo_prob1', 'elo_prob2', 'elo1_post',\n",
    "             'elo2_post', 'qbelo1_pre', 'qbelo2_pre', 'qb1', 'qb2', 'qb1_value_pre', 'qb2_value_pre', 'qb1_adj', 'qb2_adj', \n",
    "             'qbelo_prob1', 'qbelo_prob2', 'qb1_game_value', 'qb2_game_value', 'qb1_value_post', 'qb2_value_post', 'qbelo1_post',\n",
    "             'qbelo2_post', 'score1', 'score2', 'quality', 'importance', 'total_rating']\n",
    "\n",
    "# load dataset\n",
    "data = pd.read_csv(\"nfl_elo.csv\", header=None, names=col_names)\n",
    "data = data.drop(0)"
   ]
  },
  {
   "cell_type": "code",
   "execution_count": 17,
   "id": "a75a6ef1",
   "metadata": {},
   "outputs": [],
   "source": [
    "# Loop through rows and replace NaN values in 'playoff' with 'r', signifying \"Regular Season\"\n",
    "for index, row in data.iterrows():\n",
    "    if pd.isna(row['playoff']):\n",
    "        data.at[index, 'playoff'] = 'r'        \n",
    "\n",
    "# Dropping last 3 columns        \n",
    "data = data.drop(['quality', 'importance', 'total_rating'], axis=1)"
   ]
  },
  {
   "cell_type": "code",
   "execution_count": 18,
   "id": "2c52121c",
   "metadata": {},
   "outputs": [],
   "source": [
    "# Function to add column for win/loss result. 0 means team1 lost, 1 means team1 won. -1 indicates a tie.\n",
    "def compare_scores(score1, score2):\n",
    "    if score1 < score2:\n",
    "        return 0\n",
    "    elif score1 > score2:\n",
    "        return 1\n",
    "    else:\n",
    "        return -1  # Return a special value indicating that the scores are equal\n",
    "\n",
    "data['outcome'] = data.apply(lambda row: compare_scores(float(row['score1']), float(row['score2'])), axis=1)\n",
    "\n",
    "# Remove rows where the scores are equal\n",
    "data = data[data['outcome'] != -1]"
   ]
  },
  {
   "cell_type": "code",
   "execution_count": 19,
   "id": "cee6b511",
   "metadata": {},
   "outputs": [
    {
     "name": "stdout",
     "output_type": "stream",
     "text": [
      "<class 'pandas.core.frame.DataFrame'>\n",
      "Int64Index: 15069 entries, 1 to 15217\n",
      "Data columns (total 31 columns):\n",
      " #   Column          Non-Null Count  Dtype \n",
      "---  ------          --------------  ----- \n",
      " 0   date            15069 non-null  object\n",
      " 1   season          15069 non-null  object\n",
      " 2   neutral         15069 non-null  object\n",
      " 3   playoff         15069 non-null  object\n",
      " 4   team1           15069 non-null  object\n",
      " 5   team2           15069 non-null  object\n",
      " 6   elo1_pre        15069 non-null  object\n",
      " 7   elo2_pre        15069 non-null  object\n",
      " 8   elo_prob1       15069 non-null  object\n",
      " 9   elo_prob2       15069 non-null  object\n",
      " 10  elo1_post       15069 non-null  object\n",
      " 11  elo2_post       15069 non-null  object\n",
      " 12  qbelo1_pre      15069 non-null  object\n",
      " 13  qbelo2_pre      15069 non-null  object\n",
      " 14  qb1             15069 non-null  object\n",
      " 15  qb2             15069 non-null  object\n",
      " 16  qb1_value_pre   15069 non-null  object\n",
      " 17  qb2_value_pre   15069 non-null  object\n",
      " 18  qb1_adj         15069 non-null  object\n",
      " 19  qb2_adj         15069 non-null  object\n",
      " 20  qbelo_prob1     15069 non-null  object\n",
      " 21  qbelo_prob2     15069 non-null  object\n",
      " 22  qb1_game_value  15069 non-null  object\n",
      " 23  qb2_game_value  15069 non-null  object\n",
      " 24  qb1_value_post  15069 non-null  object\n",
      " 25  qb2_value_post  15069 non-null  object\n",
      " 26  qbelo1_post     15069 non-null  object\n",
      " 27  qbelo2_post     15069 non-null  object\n",
      " 28  score1          15069 non-null  object\n",
      " 29  score2          15069 non-null  object\n",
      " 30  outcome         15069 non-null  int64 \n",
      "dtypes: int64(1), object(30)\n",
      "memory usage: 3.7+ MB\n"
     ]
    }
   ],
   "source": [
    "data.info()"
   ]
  },
  {
   "cell_type": "code",
   "execution_count": null,
   "id": "17178a10",
   "metadata": {},
   "outputs": [],
   "source": []
  },
  {
   "cell_type": "code",
   "execution_count": null,
   "id": "c02e0cde",
   "metadata": {},
   "outputs": [],
   "source": []
  }
 ],
 "metadata": {
  "kernelspec": {
   "display_name": "Python 3 (ipykernel)",
   "language": "python",
   "name": "python3"
  },
  "language_info": {
   "codemirror_mode": {
    "name": "ipython",
    "version": 3
   },
   "file_extension": ".py",
   "mimetype": "text/x-python",
   "name": "python",
   "nbconvert_exporter": "python",
   "pygments_lexer": "ipython3",
   "version": "3.11.4"
  }
 },
 "nbformat": 4,
 "nbformat_minor": 5
}
