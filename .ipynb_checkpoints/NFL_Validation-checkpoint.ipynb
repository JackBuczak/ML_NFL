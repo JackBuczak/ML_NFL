{
 "cells": [
  {
   "cell_type": "code",
   "execution_count": 27,
   "id": "5316c268",
   "metadata": {},
   "outputs": [],
   "source": [
    "# Load libraries\n",
    "import pandas as pd\n",
    "from sklearn.tree import DecisionTreeClassifier # Import Decision Tree Classifier\n",
    "from sklearn.neighbors import KNeighborsClassifier #Import KNN\n",
    "from sklearn.model_selection import train_test_split # Import train_test_split function\n",
    "from sklearn import metrics #Import scikit-learn metrics module for metric evaluations\n",
    "from sklearn import model_selection\n",
    "from sklearn.model_selection import KFold \n",
    "from sklearn.model_selection import LeaveOneOut\n",
    "from sklearn.model_selection import LeavePOut\n",
    "from sklearn.model_selection import ShuffleSplit\n",
    "from sklearn.model_selection import StratifiedKFold\n",
    "from sklearn.model_selection import cross_val_score\n",
    "from sklearn.model_selection import cross_val_predict\n",
    "from sklearn.ensemble import RandomForestClassifier # Import RandomForest Classifier\n",
    "from sklearn.model_selection import train_test_split # Import train_test_split function\n",
    "from sklearn import metrics #Import scikit-learn metrics module for accuracy calculation\n",
    "import matplotlib.pyplot as plt #so you can draw\n",
    "import numpy as np"
   ]
  },
  {
   "cell_type": "code",
   "execution_count": 28,
   "id": "174723b4",
   "metadata": {
    "scrolled": false
   },
   "outputs": [],
   "source": [
    "import pandas as pd\n",
    "from io import StringIO\n",
    "\n",
    "col_names = ['date', 'season', 'neutral', 'playoff', 'team1', 'team2', 'elo1_pre', 'elo2_pre', 'elo_prob1', 'elo_prob2', 'elo1_post',\n",
    "             'elo2_post', 'qbelo1_pre', 'qbelo2_pre', 'qb1', 'qb2', 'qb1_value_pre', 'qb2_value_pre', 'qb1_adj', 'qb2_adj', \n",
    "             'qbelo_prob1', 'qbelo_prob2', 'qb1_game_value', 'qb2_game_value', 'qb1_value_post', 'qb2_value_post', 'qbelo1_post',\n",
    "             'qbelo2_post', 'score1', 'score2', 'quality', 'importance', 'total_rating']\n",
    "\n",
    "# load dataset\n",
    "data = pd.read_csv(\"nfl_elo.csv\", header=None, names=col_names)\n",
    "data = data.drop(0)"
   ]
  },
  {
   "cell_type": "code",
   "execution_count": 29,
   "id": "95732cd5",
   "metadata": {},
   "outputs": [],
   "source": [
    "# Loop through rows and replace NaN values in 'playoff' with 'r', signifying \"Regular Season\"\n",
    "for index, row in data.iterrows():\n",
    "    if pd.isna(row['playoff']):\n",
    "        data.at[index, 'playoff'] = 'r'        \n",
    "\n",
    "# Dropping last 3 columns        \n",
    "data = data.drop(['quality', 'importance', 'total_rating'], axis=1)"
   ]
  },
  {
   "cell_type": "code",
   "execution_count": 30,
   "id": "f950b025",
   "metadata": {},
   "outputs": [],
   "source": [
    "#change categorical values to numeric values\n",
    "\n",
    "# Importing LabelEncoder from Sklearn \n",
    "# library from preprocessing Module.\n",
    "from sklearn.preprocessing import LabelEncoder\n",
    " \n",
    "# Creating a instance of label Encoder.\n",
    "le = LabelEncoder()\n",
    " \n",
    "# Using .fit_transform function to fit label\n",
    "# encoder and return encoded label\n",
    "l1 = le.fit_transform(data['team1'])\n",
    "\n",
    "data.drop(\"team1\", axis=1, inplace=True)\n",
    " \n",
    "# Appending the array to our dataFrame \n",
    "# with column name 'Purchased'\n",
    "data[\"team1\"] = l1\n",
    "\n",
    "#repeat for the rest of the categorical values\n",
    "l2 = le.fit_transform(data['team2'])\n",
    "data.drop(\"team2\", axis=1, inplace=True)\n",
    "data[\"team2\"] = l2\n",
    "\n",
    "l3 = le.fit_transform(data['qb1'])\n",
    "data.drop(\"qb1\", axis=1, inplace=True)\n",
    "data[\"qb1\"] = l3\n",
    "\n",
    "l4 = le.fit_transform(data['qb2'])\n",
    "data.drop(\"qb2\", axis=1, inplace=True)\n",
    "data[\"qb2\"] = l4\n",
    "\n",
    "#change categorical values to numeric values\n",
    "\n",
    "# Importing LabelEncoder from Sklearn \n",
    "# library from preprocessing Module.\n",
    "from sklearn.preprocessing import LabelEncoder\n",
    " \n",
    "# Creating a instance of label Encoder.\n",
    "le = LabelEncoder()\n",
    " \n",
    "# Using .fit_transform function to fit label\n",
    "# encoder and return encoded label\n",
    "l1 = le.fit_transform(data['team1'])\n",
    "\n",
    "data.drop(\"team1\", axis=1, inplace=True)\n",
    " \n",
    "# Appending the array to our dataFrame \n",
    "# with column name 'Purchased'\n",
    "data[\"team1\"] = l1\n",
    "\n",
    "#repeat for the rest of the categorical values\n",
    "l2 = le.fit_transform(data['team2'])\n",
    "data.drop(\"team2\", axis=1, inplace=True)\n",
    "data[\"team2\"] = l2\n",
    "\n",
    "l3 = le.fit_transform(data['qb1'])\n",
    "data.drop(\"qb1\", axis=1, inplace=True)\n",
    "data[\"qb1\"] = l3\n",
    "\n",
    "l4 = le.fit_transform(data['qb2'])\n",
    "data.drop(\"qb2\", axis=1, inplace=True)\n",
    "data[\"qb2\"] = l4\n",
    "\n",
    "l5 = le.fit_transform(data['playoff'])  \n",
    "data.drop(\"playoff\", axis=1, inplace=True)\n",
    "data[\"playoff\"] = l5"
   ]
  },
  {
   "cell_type": "code",
   "execution_count": 31,
   "id": "07f27282",
   "metadata": {},
   "outputs": [],
   "source": [
    "# Function to add column for win/loss result. 0 means team1 lost, 1 means team1 won. -1 indicates a tie.\n",
    "def compare_scores(score1, score2):\n",
    "    if score1 < score2:\n",
    "        return 0\n",
    "    elif score1 > score2:\n",
    "        return 1\n",
    "    else:\n",
    "        return -1  # Return a special value indicating that the scores are equal\n",
    "\n",
    "data['outcome'] = data.apply(lambda row: compare_scores(float(row['score1']), float(row['score2'])), axis=1)\n",
    "\n",
    "# Remove rows where the scores are equal\n",
    "data = data[data['outcome'] != -1]"
   ]
  },
  {
   "cell_type": "code",
   "execution_count": 32,
   "id": "318c0833",
   "metadata": {},
   "outputs": [],
   "source": [
    "# Split dataset in features and target variable\n",
    "feature_cols = ['qbelo1_pre', 'qbelo2_pre', 'qb1_adj', 'qb2_adj']\n",
    "X = data[feature_cols] # Features\n",
    "y = data.outcome # Target variable "
   ]
  },
  {
   "cell_type": "code",
   "execution_count": 33,
   "id": "266e56a2",
   "metadata": {},
   "outputs": [
    {
     "name": "stdout",
     "output_type": "stream",
     "text": [
      "Accuracy: 0.6425569564255695\n"
     ]
    }
   ],
   "source": [
    "# Split dataset into training set and test set\n",
    "X_train, X_test, y_train, y_test = train_test_split(X, y, test_size=0.3, random_state=1) # 70% training and 30% test\n",
    "\n",
    "\n",
    "# Create Decision Tree classifer object\n",
    "oneTree = DecisionTreeClassifier(criterion=\"entropy\", max_depth=3)\n",
    "\n",
    "# Train Decision Tree Classifer\n",
    "oneTree.fit(X_train,y_train)\n",
    "y_pred = oneTree.predict(X_test)\n",
    "# Model Accuracy, how often is the classifier correct?\n",
    "print(f\"Accuracy: {metrics.accuracy_score(y_test, y_pred)}\")"
   ]
  },
  {
   "cell_type": "code",
   "execution_count": 34,
   "id": "ce70d5a3",
   "metadata": {},
   "outputs": [
    {
     "name": "stdout",
     "output_type": "stream",
     "text": [
      "Accuracy: 0.6417142753912464 (0.01625291810445927)\n"
     ]
    }
   ],
   "source": [
    "#K-fold Cross-Validation\n",
    "'''\n",
    "In k-fold cross-validation, the data is divided into k folds. \n",
    "The model is trained on k-1 folds with one fold held back for testing. \n",
    "This process gets repeated to ensure each fold of the dataset gets the\n",
    "chance to be the held back set. Once the process is completed, \n",
    "we can summarize the evaluation metric using the mean or/and the standard deviation.\n",
    "'''\n",
    "kfold = model_selection.KFold(n_splits=10)\n",
    "model_kfold = DecisionTreeClassifier(criterion=\"entropy\", max_depth=3)\n",
    "results_kfold = model_selection.cross_val_score(model_kfold, X, y, cv=kfold)\n",
    "print(f\"Accuracy: {results_kfold.mean()} ({results_kfold.std()})\")"
   ]
  },
  {
   "cell_type": "code",
   "execution_count": 35,
   "id": "607ee84f",
   "metadata": {},
   "outputs": [
    {
     "name": "stdout",
     "output_type": "stream",
     "text": [
      "Accuracy: 0.6425775773261743 (0.016116233470768786)\n"
     ]
    }
   ],
   "source": [
    "#Stratified K-fold Cross-Validation\n",
    "'''\n",
    "Stratified K-Fold approach is a variation of k-fold cross-validation \n",
    "that returns stratified folds, i.e., each set containing approximately\n",
    "the same ratio of target labels as the complete data.\n",
    "'''\n",
    "skfold = StratifiedKFold(n_splits=10)\n",
    "model_skfold = DecisionTreeClassifier(criterion=\"entropy\", max_depth=3)\n",
    "results_skfold = model_selection.cross_val_score(model_skfold, X, y, cv=skfold)\n",
    "print(f\"Accuracy: {results_skfold.mean()} ({results_skfold.std()})\")"
   ]
  },
  {
   "cell_type": "code",
   "execution_count": 36,
   "id": "3998fe7f",
   "metadata": {},
   "outputs": [
    {
     "name": "stdout",
     "output_type": "stream",
     "text": [
      "Accuracy: 0.6420703384207033 (0.005761606836459182)\n"
     ]
    }
   ],
   "source": [
    "#Repeated Random Test-Train Splits\n",
    "'''\n",
    "This technique is a hybrid of traditional train-test splitting and the k-fold \n",
    "cross-validation method. In this technique, we create random splits of the data \n",
    "in the training-test set manner and then repeat the process of splitting and \n",
    "evaluating the algorithm multiple times, just like the cross-validation method.\n",
    "'''\n",
    "kfold2 = model_selection.ShuffleSplit(n_splits=10, test_size=0.20, random_state=100)\n",
    "model_shufflecv = DecisionTreeClassifier(criterion=\"entropy\", max_depth=3)\n",
    "results_shufflecv = model_selection.cross_val_score(model_shufflecv, X, y, cv=kfold2)\n",
    "print(f\"Accuracy: {results_shufflecv.mean()} ({results_shufflecv.std()})\")"
   ]
  },
  {
   "cell_type": "code",
   "execution_count": 37,
   "id": "83fc4e23",
   "metadata": {},
   "outputs": [],
   "source": [
    "def lookAtModels(models):\n",
    "    results=[]\n",
    "    names=[]\n",
    "    for name, model in models:\n",
    "        skfold = StratifiedKFold(n_splits=10)\n",
    "        cv_results= cross_val_score(model, X_train, y_train, cv=skfold, scoring='accuracy')\n",
    "        results.append(cv_results)\n",
    "        names.append(name)\n",
    "        print(f'{name}: {cv_results.mean()} ({cv_results.std()})')\n",
    "    return names, results#not sure why I want lists yet"
   ]
  },
  {
   "cell_type": "code",
   "execution_count": 38,
   "id": "54ec4464",
   "metadata": {
    "scrolled": true
   },
   "outputs": [],
   "source": [
    "#make all your models\n",
    "models =[]\n",
    "for d in range(2,15):\n",
    "    models.append((f'Tree depth {d}',DecisionTreeClassifier(criterion=\"entropy\",max_depth=d)))"
   ]
  },
  {
   "cell_type": "code",
   "execution_count": 39,
   "id": "6bc33b1b",
   "metadata": {},
   "outputs": [
    {
     "name": "stdout",
     "output_type": "stream",
     "text": [
      "Tree depth 2: 0.6428715702761766 (0.008744115515721788)\n",
      "Tree depth 3: 0.6410695432430731 (0.0070235180700778015)\n",
      "Tree depth 4: 0.6441992140075722 (0.01328421977821475)\n",
      "Tree depth 5: 0.6402181713535435 (0.011129469815643537)\n",
      "Tree depth 6: 0.6407853629144673 (0.009571505032625363)\n",
      "Tree depth 7: 0.6424926032177127 (0.00992274696817472)\n",
      "Tree depth 8: 0.6365194204879628 (0.00689415801234432)\n",
      "Tree depth 9: 0.6294091567218539 (0.0059396559790142345)\n",
      "Tree depth 10: 0.6264694191390057 (0.008375001655129123)\n",
      "Tree depth 11: 0.6202099876795237 (0.010762214183571255)\n",
      "Tree depth 12: 0.620875653120138 (0.00939256045017749)\n",
      "Tree depth 13: 0.6139534339955214 (0.014830416183601439)\n",
      "Tree depth 14: 0.6123441279890643 (0.009995310998920709)\n"
     ]
    }
   ],
   "source": [
    "#see your results\n",
    "names,results = lookAtModels(models)"
   ]
  },
  {
   "cell_type": "code",
   "execution_count": 40,
   "id": "c788a5f5",
   "metadata": {},
   "outputs": [],
   "source": [
    "D2_mean = np.mean(results[0])\n",
    "D2_std= np.std(results[0])\n",
    "D3_mean = np.mean(results[1])\n",
    "D3_std = np.std(results[1])\n",
    "D4_mean = np.mean(results[2])\n",
    "D4_std = np.std(results[2])\n",
    "D5_mean = np.mean(results[3])\n",
    "D5_std = np.std(results[3])\n",
    "D6_mean = np.mean(results[4])\n",
    "D6_std = np.std(results[4])\n",
    "D7_mean = np.mean(results[5])\n",
    "D7_std = np.std(results[5])\n",
    "D8_mean = np.mean(results[6])\n",
    "D8_std = np.std(results[6])\n",
    "D9_mean = np.mean(results[7])\n",
    "D9_std = np.std(results[7])\n",
    "D10_mean = np.mean(results[8])\n",
    "D10_std = np.std(results[8])\n",
    "D11_mean = np.mean(results[9])\n",
    "D11_std = np.std(results[9])\n",
    "D12_mean = np.mean(results[10])\n",
    "D12_std = np.std(results[10])\n",
    "D13_mean = np.mean(results[11])\n",
    "D13_std = np.std(results[11])\n",
    "D14_mean = np.mean(results[12])\n",
    "D14_std = np.std(results[12])"
   ]
  },
  {
   "cell_type": "code",
   "execution_count": 41,
   "id": "555472df",
   "metadata": {},
   "outputs": [
    {
     "data": {
      "image/png": "[encoded data removed]",
      "text/plain": [
       "<Figure size 640x480 with 1 Axes>"
      ]
     },
     "metadata": {},
     "output_type": "display_data"
    }
   ],
   "source": [
    "#lists for plot – I bet there is a better way to do this\n",
    "depth =['2','3','4','5','6','7','8', '9', '10', '11', '12', '13', '14']\n",
    "x_pos = np.arange(len(depth))\n",
    "#print(x_pos)\n",
    "Means = [D2_mean,D3_mean,D4_mean,D5_mean,D6_mean,D7_mean,D8_mean,D9_mean,D10_mean,D11_mean,D12_mean,D13_mean,D14_mean]\n",
    "error = [D2_std,D3_std,D4_std,D5_std,D6_std,D7_std,D8_std,D9_std,D10_std,D11_std,D12_std,D13_std,D14_std]\n",
    "# Build the plot\n",
    "fig, ax = plt.subplots()\n",
    "ax.bar(x_pos, Means, yerr=error, align='center', alpha=0.5, ecolor='black', capsize=10)\n",
    "ax.set_ylabel('Accuracy')\n",
    "ax.set_xticks(x_pos)\n",
    "ax.set_xticklabels(depth)\n",
    "ax.set_title('Accuracy scores of different depthss')\n",
    "ax.yaxis.grid(True)"
   ]
  },
  {
   "cell_type": "code",
   "execution_count": 42,
   "id": "d13f9cf3",
   "metadata": {},
   "outputs": [],
   "source": [
    "randomForestModels =[]\n",
    "for d in range(2,15):\n",
    "    randomForestModels.append((f'Forest depth {d}',RandomForestClassifier(n_estimators=200,max_depth=d, random_state=1)))\n",
    "    "
   ]
  },
  {
   "cell_type": "code",
   "execution_count": 43,
   "id": "5560e10b",
   "metadata": {
    "scrolled": true
   },
   "outputs": [
    {
     "name": "stdout",
     "output_type": "stream",
     "text": [
      "Forest depth 2: 0.6447675746647841 (0.010789593577542743)\n",
      "Forest depth 3: 0.6475164797611447 (0.009715396367842107)\n",
      "Forest depth 4: 0.6508340153061682 (0.010469647563579204)\n",
      "Forest depth 5: 0.6517823322571652 (0.007230997958010531)\n",
      "Forest depth 6: 0.6517818826047466 (0.0077334352997729)\n",
      "Forest depth 7: 0.6507385990629244 (0.006723893475915307)\n",
      "Forest depth 8: 0.6506452512208064 (0.009413534957290824)\n",
      "Forest depth 9: 0.6499806649459968 (0.00712095887861277)\n",
      "Forest depth 10: 0.6466631294009731 (0.00794129466186549)\n",
      "Forest depth 11: 0.6440087412430191 (0.007470593542905235)\n",
      "Forest depth 12: 0.6465675332967616 (0.007604540635724908)\n",
      "Forest depth 13: 0.6428709407627904 (0.007180599845176146)\n",
      "Forest depth 14: 0.6446719785605726 (0.010415918923299761)\n"
     ]
    }
   ],
   "source": [
    "#see your results\n",
    "names,results = lookAtModels(randomForestModels)"
   ]
  },
  {
   "cell_type": "code",
   "execution_count": 44,
   "id": "20c7e597",
   "metadata": {},
   "outputs": [],
   "source": [
    "D2_mean = np.mean(results[0])\n",
    "D2_std= np.std(results[0])\n",
    "D3_mean = np.mean(results[1])\n",
    "D3_std = np.std(results[1])\n",
    "D4_mean = np.mean(results[2])\n",
    "D4_std = np.std(results[2])\n",
    "D5_mean = np.mean(results[3])\n",
    "D5_std = np.std(results[3])\n",
    "D6_mean = np.mean(results[4])\n",
    "D6_std = np.std(results[4])\n",
    "D7_mean = np.mean(results[5])\n",
    "D7_std = np.std(results[5])\n",
    "D8_mean = np.mean(results[6])\n",
    "D8_std = np.std(results[6])\n",
    "D9_mean = np.mean(results[7])\n",
    "D9_std = np.std(results[7])\n",
    "D10_mean = np.mean(results[8])\n",
    "D10_std = np.std(results[8])\n",
    "D11_mean = np.mean(results[9])\n",
    "D11_std = np.std(results[9])\n",
    "D12_mean = np.mean(results[10])\n",
    "D12_std = np.std(results[10])\n",
    "D13_mean = np.mean(results[11])\n",
    "D13_std = np.std(results[11])\n",
    "D14_mean = np.mean(results[12])\n",
    "D14_std = np.std(results[12])"
   ]
  },
  {
   "cell_type": "code",
   "execution_count": 45,
   "id": "c5a91a11",
   "metadata": {},
   "outputs": [
    {
     "data": {
      "image/png": "[encoded data removed]",
      "text/plain": [
       "<Figure size 640x480 with 1 Axes>"
      ]
     },
     "metadata": {},
     "output_type": "display_data"
    }
   ],
   "source": [
    "#lists for plot – I bet there is a better way to do this\n",
    "depth =['2','3','4','5','6','7','8', '9', '10', '11', '12', '13', '14']\n",
    "x_pos = np.arange(len(depth))\n",
    "#print(x_pos)\n",
    "Means = [D2_mean,D3_mean,D4_mean,D5_mean,D6_mean,D7_mean,D8_mean,D9_mean,D10_mean,D11_mean,D12_mean,D13_mean,D14_mean]\n",
    "error = [D2_std,D3_std,D4_std,D5_std,D6_std,D7_std,D8_std,D9_std,D10_std,D11_std,D12_std,D13_std,D14_std]\n",
    "# Build the plot\n",
    "fig, ax = plt.subplots()\n",
    "ax.bar(x_pos, Means, yerr=error, align='center', alpha=0.5, ecolor='black', capsize=10)\n",
    "ax.set_ylabel('Accuracy')\n",
    "ax.set_xticks(x_pos)\n",
    "ax.set_xticklabels(depth)\n",
    "ax.set_title('Accuracy scores of different depthss')\n",
    "ax.yaxis.grid(True)"
   ]
  },
  {
   "cell_type": "code",
   "execution_count": 46,
   "id": "6d11169a",
   "metadata": {},
   "outputs": [],
   "source": [
    "randomForestModels =[]\n",
    "for n in range(10, 201, 10):\n",
    "    randomForestModels.append((f'Forest n_estimators {n}',RandomForestClassifier(n_estimators=n,max_depth=5, random_state=1)))\n",
    "    "
   ]
  },
  {
   "cell_type": "code",
   "execution_count": 47,
   "id": "9c1d960e",
   "metadata": {
    "scrolled": true
   },
   "outputs": [
    {
     "name": "stdout",
     "output_type": "stream",
     "text": [
      "Forest n_estimators 10: 0.6482750433914585 (0.010192069959614376)\n",
      "Forest n_estimators 20: 0.6487487971797801 (0.012148913869862638)\n",
      "Forest n_estimators 30: 0.6489378310565932 (0.009386827512746897)\n",
      "Forest n_estimators 40: 0.6501702384057124 (0.00966208765365125)\n",
      "Forest n_estimators 50: 0.650454508664802 (0.009442220366711242)\n",
      "Forest n_estimators 60: 0.6496962148259395 (0.00964628545933225)\n",
      "Forest n_estimators 70: 0.6513078590249737 (0.00846219402615114)\n",
      "Forest n_estimators 80: 0.6504541489428671 (0.009427442448859073)\n",
      "Forest n_estimators 90: 0.6506441720550015 (0.008276107514111966)\n",
      "Forest n_estimators 100: 0.6502648452746027 (0.009514682621904164)\n",
      "Forest n_estimators 110: 0.6509286221750586 (0.009008191343021174)\n",
      "Forest n_estimators 120: 0.6510231391134653 (0.008732434884783027)\n",
      "Forest n_estimators 130: 0.6511179258433232 (0.0089921740916965)\n",
      "Forest n_estimators 140: 0.6518763096126694 (0.009544680390318664)\n",
      "Forest n_estimators 150: 0.6524451199223001 (0.007611640314135542)\n",
      "Forest n_estimators 160: 0.6521608496632103 (0.008022085026819817)\n",
      "Forest n_estimators 170: 0.6516869160139211 (0.008137502388521881)\n",
      "Forest n_estimators 180: 0.6514973425542057 (0.007431861131229424)\n",
      "Forest n_estimators 190: 0.6511184654262256 (0.0075335560727336475)\n",
      "Forest n_estimators 200: 0.6517823322571652 (0.007230997958010531)\n"
     ]
    }
   ],
   "source": [
    "#see your results\n",
    "names,results = lookAtModels(randomForestModels)"
   ]
  },
  {
   "cell_type": "code",
   "execution_count": 48,
   "id": "963a6db4",
   "metadata": {},
   "outputs": [],
   "source": [
    "D10_mean = np.mean(results[0])\n",
    "D10_std= np.std(results[0])\n",
    "D20_mean = np.mean(results[1])\n",
    "D20_std= np.std(results[1])\n",
    "D30_mean = np.mean(results[2])\n",
    "D30_std= np.std(results[2])\n",
    "D40_mean = np.mean(results[3])\n",
    "D40_std= np.std(results[3])\n",
    "D50_mean = np.mean(results[4])\n",
    "D50_std= np.std(results[4])\n",
    "D60_mean = np.mean(results[5])\n",
    "D60_std= np.std(results[5])\n",
    "D70_mean = np.mean(results[6])\n",
    "D70_std= np.std(results[6])\n",
    "D80_mean = np.mean(results[7])\n",
    "D80_std= np.std(results[7])\n",
    "D90_mean = np.mean(results[8])\n",
    "D90_std= np.std(results[8])\n",
    "D100_mean = np.mean(results[9])\n",
    "D100_std= np.std(results[9])\n",
    "D110_mean = np.mean(results[10])\n",
    "D110_std= np.std(results[10])\n",
    "D120_mean = np.mean(results[11])\n",
    "D120_std= np.std(results[11])\n",
    "D130_mean = np.mean(results[12])\n",
    "D130_std= np.std(results[12])\n",
    "D140_mean = np.mean(results[13])\n",
    "D140_std= np.std(results[13])\n",
    "D150_mean = np.mean(results[14])\n",
    "D150_std= np.std(results[14])\n",
    "D160_mean = np.mean(results[15])\n",
    "D160_std= np.std(results[15])\n",
    "D170_mean = np.mean(results[16])\n",
    "D170_std= np.std(results[16])\n",
    "D180_mean = np.mean(results[17])\n",
    "D180_std= np.std(results[17])\n",
    "D190_mean = np.mean(results[18])\n",
    "D190_std= np.std(results[18])\n",
    "D200_mean = np.mean(results[19])\n",
    "D200_std= np.std(results[19])"
   ]
  },
  {
   "cell_type": "code",
   "execution_count": 49,
   "id": "79f4e668",
   "metadata": {
    "scrolled": false
   },
   "outputs": [
    {
     "data": {
      "image/png": "[encoded data removed]",
      "text/plain": [
       "<Figure size 960x720 with 1 Axes>"
      ]
     },
     "metadata": {},
     "output_type": "display_data"
    }
   ],
   "source": [
    "#lists for plot – I bet there is a better way to do this\n",
    "depth =['10','20','30','40','50','60','70', '80', '90', '100', '110', '120', '130', '140', '150', '160', '170', '180', '190', '200']\n",
    "x_pos = np.arange(len(depth))\n",
    "#print(x_pos)\n",
    "Means = [\n",
    "    D10_mean, D20_mean, D30_mean, D40_mean, D50_mean, D60_mean, D70_mean,\n",
    "    D80_mean, D90_mean, D100_mean, D110_mean, D120_mean, D130_mean,\n",
    "    D140_mean, D150_mean, D160_mean, D170_mean, D180_mean, D190_mean, D200_mean]\n",
    "error = [\n",
    "    D10_std, D20_std, D30_std, D40_std, D50_std, D60_std, D70_std,\n",
    "    D80_std, D90_std, D100_std, D110_std, D120_std, D130_std,\n",
    "    D140_std, D150_std, D160_std, D170_std, D180_std, D190_std, D200_std]\n",
    "# Build the plot\n",
    "fig, ax = plt.subplots()\n",
    "ax.bar(x_pos, Means, yerr=error, align='center', alpha=0.5, ecolor='black', capsize=10)\n",
    "ax.set_ylabel('Accuracy')\n",
    "ax.set_xticks(x_pos)\n",
    "ax.set_xticklabels(depth)\n",
    "ax.set_title('Accuracy scores of different n_estimators')\n",
    "ax.yaxis.grid(True)\n",
    "\n",
    "# Set Y axis range\n",
    "ax.set_ylim(0.62, 0.67)\n",
    "\n",
    "# Add a red horizontal line at y=0.645\n",
    "ax.axhline(y=0.65, color='red', label='Target')\n",
    "\n",
    "# Increase width and height by 50%\n",
    "fig_width, fig_height = fig.get_size_inches()\n",
    "fig.set_size_inches(fig_width * 1.5, fig_height * 1.5)\n",
    "\n",
    "# Show the plot\n",
    "plt.show()\n"
   ]
  },
  {
   "cell_type": "code",
   "execution_count": 50,
   "id": "f61d6a07",
   "metadata": {},
   "outputs": [],
   "source": [
    "randomForestModels =[]\n",
    "for n in range(150, 161):\n",
    "    randomForestModels.append((f'Forest n_estimators {n}',RandomForestClassifier(n_estimators=n,max_depth=5, random_state=1)))"
   ]
  },
  {
   "cell_type": "code",
   "execution_count": 51,
   "id": "d83f798b",
   "metadata": {},
   "outputs": [
    {
     "name": "stdout",
     "output_type": "stream",
     "text": [
      "Forest n_estimators 150: 0.6524451199223001 (0.007611640314135542)\n",
      "Forest n_estimators 151: 0.6520661528638364 (0.007357086018717763)\n",
      "Forest n_estimators 152: 0.6521609395936941 (0.007983970619382741)\n",
      "Forest n_estimators 153: 0.652160939593694 (0.007744202645723317)\n",
      "Forest n_estimators 154: 0.6525402663740928 (0.007943206035826076)\n",
      "Forest n_estimators 155: 0.6525402663740928 (0.007748534307477553)\n",
      "Forest n_estimators 156: 0.6519715459949459 (0.007838071669870599)\n",
      "Forest n_estimators 157: 0.6521611194546615 (0.007427903606799403)\n",
      "Forest n_estimators 158: 0.6519713661339785 (0.007422654504449741)\n",
      "Forest n_estimators 159: 0.6522558162540356 (0.007848774358131878)\n",
      "Forest n_estimators 160: 0.6521608496632103 (0.008022085026819817)\n"
     ]
    }
   ],
   "source": [
    "#see your results\n",
    "names,results = lookAtModels(randomForestModels)"
   ]
  },
  {
   "cell_type": "code",
   "execution_count": 52,
   "id": "07c35d4b",
   "metadata": {
    "scrolled": false
   },
   "outputs": [],
   "source": [
    "#Fix data for KNN\n",
    "# Import module to standardize the scale\n",
    "from sklearn.preprocessing import StandardScaler\n",
    "# Create instance (i.e. object) of the standard scaler\n",
    "scaler = StandardScaler()\n",
    "# Fit the object to all the data except the Target Class or Outcome\n",
    "# use the .drop() method to gather all features except Target Class/outcome\n",
    "# axis -> argument refers to columns; a 0 would represent rows a 1 is column\n",
    "scaler.fit(data[feature_cols])\n",
    "# Use scaler object to conduct a transforms\n",
    "scaled_features = scaler.transform(data[feature_cols])\n",
    "#Here we have the normalized dataset, minus the target/output column which is the last col\n",
    "data_feat = pd.DataFrame(scaled_features, columns= feature_cols)\n",
    "#split dataset in features and target variable\n",
    "X = data_feat\n",
    "y = data['outcome'] # Target variable\n",
    "# Split dataset into training set and test set\n",
    "X_train, X_test, y_train, y_test = train_test_split(X, y, test_size=0.3, random_state=1) # 70% training and 30% test"
   ]
  },
  {
   "cell_type": "code",
   "execution_count": 53,
   "id": "a087c30b",
   "metadata": {},
   "outputs": [],
   "source": [
    "#To help with model selection\n",
    "models =[]\n",
    "models.append(('KNN', KNeighborsClassifier(n_neighbors=9, metric='euclidean')))\n",
    "models.append(('Tree',DecisionTreeClassifier(criterion=\"entropy\", max_depth=3)))\n",
    "models.append(('Forest',RandomForestClassifier(n_estimators=155,max_depth=5, random_state=1)))"
   ]
  },
  {
   "cell_type": "code",
   "execution_count": 54,
   "id": "8a0886fc",
   "metadata": {},
   "outputs": [
    {
     "name": "stdout",
     "output_type": "stream",
     "text": [
      "KNN mean: 0.6524451199223001 (0.007611640314135542)\n",
      "Tree mean: 0.6520661528638364 (0.007357086018717763), \n",
      "Forest mean: 0.6521609395936941 (0.007983970619382741)\n"
     ]
    }
   ],
   "source": [
    "#verify your results\n",
    "KNN_mean = np.mean(results[0])\n",
    "KNN_std= np.std(results[0])\n",
    "DT_mean = np.mean(results[1])\n",
    "DT_std = np.std(results[1])\n",
    "F_mean = np.mean(results[2])\n",
    "F_std = np.std(results[2])\n",
    "print(f'KNN mean: {KNN_mean} ({KNN_std})\\nTree mean: {DT_mean} ({DT_std}), \\nForest mean: {F_mean} ({F_std})')"
   ]
  },
  {
   "cell_type": "code",
   "execution_count": 55,
   "id": "72c44fc7",
   "metadata": {},
   "outputs": [
    {
     "data": {
      "image/png": "[encoded data removed]",
      "text/plain": [
       "<Figure size 640x480 with 1 Axes>"
      ]
     },
     "metadata": {},
     "output_type": "display_data"
    }
   ],
   "source": [
    "#lists for plot\n",
    "classifiers =['KNN', 'Decision Tree', 'Random Forest']\n",
    "x_pos = np.arange(len(classifiers))\n",
    "#print(x_pos)\n",
    "Means = [KNN_mean, DT_mean, F_mean]\n",
    "error = [KNN_std, DT_std, F_std]\n",
    "# Build the plot\n",
    "fig, ax = plt.subplots()\n",
    "ax.bar(x_pos, Means, yerr=error, align='center', alpha=0.5, ecolor='black', capsize=10)\n",
    "ax.set_ylabel('Accuracy')\n",
    "ax.set_xticks(x_pos)\n",
    "ax.set_xticklabels(classifiers)\n",
    "ax.set_title('Accuracy scores of different classifiers')\n",
    "ax.yaxis.grid(True)"
   ]
  },
  {
   "cell_type": "code",
   "execution_count": 56,
   "id": "f6d61a09",
   "metadata": {},
   "outputs": [],
   "source": [
    "def lookAtModels(models):\n",
    "    results=[]\n",
    "    names=[]\n",
    "    for name, model in models:\n",
    "        skfold = StratifiedKFold(n_splits=10)\n",
    "        cv_results= cross_val_score(model, X_train, y_train, cv=skfold, scoring='f1')\n",
    "        results.append(cv_results)\n",
    "        names.append(name)\n",
    "        print(f'{name}: {cv_results.mean()} ({cv_results.std()})')\n",
    "    return names, results#if you wish to graph later"
   ]
  },
  {
   "cell_type": "code",
   "execution_count": 57,
   "id": "befce87f",
   "metadata": {
    "scrolled": true
   },
   "outputs": [
    {
     "name": "stdout",
     "output_type": "stream",
     "text": [
      "KNN: 0.6855809127857402 (0.008304009220133583)\n",
      "Tree: 0.7014529440452064 (0.010558842867867471)\n",
      "Forest: 0.7163020781344297 (0.009021708333706689)\n"
     ]
    }
   ],
   "source": [
    "names,results = lookAtModels(models)"
   ]
  }
 ],
 "metadata": {
  "kernelspec": {
   "display_name": "Python 3 (ipykernel)",
   "language": "python",
   "name": "python3"
  },
  "language_info": {
   "codemirror_mode": {
    "name": "ipython",
    "version": 3
   },
   "file_extension": ".py",
   "mimetype": "text/x-python",
   "name": "python",
   "nbconvert_exporter": "python",
   "pygments_lexer": "ipython3",
   "version": "3.11.4"
  }
 },
 "nbformat": 4,
 "nbformat_minor": 5
}
